{
 "cells": [
  {
   "cell_type": "code",
   "execution_count": 1,
   "metadata": {},
   "outputs": [],
   "source": [
    "import time\n",
    "import numpy as np\n",
    "import pandas as pd\n",
    "import itertools\n",
    "\n",
    "import conceptnet_lite\n",
    "from conceptnet_lite import Label, edges_between, edges_for"
   ]
  },
  {
   "cell_type": "code",
   "execution_count": 130,
   "metadata": {},
   "outputs": [],
   "source": [
    "### RAT\n",
    "rat = 'RAT.csv'\n",
    "\n",
    "### FRAT\n",
    "frat = 'fRAT.csv'\n",
    "\n",
    "### set CSV here\n",
    "csv = rat"
   ]
  },
  {
   "cell_type": "code",
   "execution_count": 132,
   "metadata": {},
   "outputs": [
    {
     "name": "stdout",
     "output_type": "stream",
     "text": [
      "***************    CSV file set to RAT.csv      ***************\n"
     ]
    },
    {
     "data": {
      "text/html": [
       "<div>\n",
       "<style scoped>\n",
       "    .dataframe tbody tr th:only-of-type {\n",
       "        vertical-align: middle;\n",
       "    }\n",
       "\n",
       "    .dataframe tbody tr th {\n",
       "        vertical-align: top;\n",
       "    }\n",
       "\n",
       "    .dataframe thead th {\n",
       "        text-align: right;\n",
       "    }\n",
       "</style>\n",
       "<table border=\"1\" class=\"dataframe\">\n",
       "  <thead>\n",
       "    <tr style=\"text-align: right;\">\n",
       "      <th></th>\n",
       "      <th>RAT</th>\n",
       "      <th>Solutions</th>\n",
       "      <th>Answer Model provides</th>\n",
       "    </tr>\n",
       "  </thead>\n",
       "  <tbody>\n",
       "    <tr>\n",
       "      <th>0</th>\n",
       "      <td>Cottage Swiss Cake</td>\n",
       "      <td>Cheese</td>\n",
       "      <td>NaN</td>\n",
       "    </tr>\n",
       "    <tr>\n",
       "      <th>1</th>\n",
       "      <td>Cream Skate Water</td>\n",
       "      <td>Ice</td>\n",
       "      <td>NaN</td>\n",
       "    </tr>\n",
       "    <tr>\n",
       "      <th>2</th>\n",
       "      <td>Loser Throat Spot</td>\n",
       "      <td>Sore</td>\n",
       "      <td>NaN</td>\n",
       "    </tr>\n",
       "    <tr>\n",
       "      <th>3</th>\n",
       "      <td>Show Life Row</td>\n",
       "      <td>Boat</td>\n",
       "      <td>NaN</td>\n",
       "    </tr>\n",
       "    <tr>\n",
       "      <th>4</th>\n",
       "      <td>Night Wrist Stop</td>\n",
       "      <td>Watch</td>\n",
       "      <td>NaN</td>\n",
       "    </tr>\n",
       "  </tbody>\n",
       "</table>\n",
       "</div>"
      ],
      "text/plain": [
       "                  RAT Solutions  Answer Model provides\n",
       "0  Cottage Swiss Cake   Cheese                     NaN\n",
       "1  Cream Skate Water       Ice                     NaN\n",
       "2   Loser Throat Spot     Sore                     NaN\n",
       "3      Show Life Row      Boat                     NaN\n",
       "4   Night Wrist Stop     Watch                     NaN"
      ]
     },
     "execution_count": 132,
     "metadata": {},
     "output_type": "execute_result"
    }
   ],
   "source": [
    "# read the cues ---  set the csv file to be read\n",
    "df = pd.read_csv(csv, sep=';')\n",
    "\n",
    "# connect to the database\n",
    "conceptnet_lite.connect(r\"C:\\Users\\rejna\\Work_only_here\\Miscellaneous\\rakshitha\\conceptnet_database\")\n",
    "\n",
    "print('***************    CSV file set to {}      ***************'.format(csv))\n",
    "df.head()"
   ]
  },
  {
   "cell_type": "markdown",
   "metadata": {},
   "source": [
    "# FRAT\n",
    "## Local search implementation\n",
    "#### Search for related node intersection (no compound words)"
   ]
  },
  {
   "cell_type": "code",
   "execution_count": 126,
   "metadata": {},
   "outputs": [],
   "source": [
    "###### Set these two parameters\n",
    "\n",
    "check_for = '3,' # separate digits by comma, even if only 1\n",
    "t = True # whether or not the solution should be contained\n",
    "\n",
    "######"
   ]
  },
  {
   "cell_type": "code",
   "execution_count": 127,
   "metadata": {},
   "outputs": [],
   "source": [
    "def get_nodes(node):\n",
    "    try:\n",
    "        current = [(e.start.text, e.relation.name) \n",
    "                    for e in edges_for(Label.get(text=node, language='en').concepts, same_language=True) \n",
    "                       if e.start.text not in [c]]\n",
    "        [current.append((e.end.text, e.relation.name)) \n",
    "            for e in edges_for(Label.get(text=node, language='en').concepts, same_language=True)\n",
    "                   if e.end.text not in [c]]\n",
    "        return set(current)\n",
    "    except Exception as error:\n",
    "        print('No label for the node \"{}\"... Are you sure the spelling is correct?'.format(node))\n",
    "        return set()\n",
    "\n",
    "def checker(results, check_for, t, cue):\n",
    "    if '3' in check_for:\n",
    "        yield results[0] & results[1] & results[2], [cue[0], cue[1], cue[2]]\n",
    "    if '2' in check_for:\n",
    "        for i in range(0, len(results) - 1):\n",
    "            yield results[i] & results[i+1], [cue[i], cue[i+1]]\n",
    "            \n",
    "def get_output(result, cues, has_solution):\n",
    "    solutions = [res[0] for res in result]\n",
    "    relations = [res[1] for res in result]\n",
    "    return {'FrAt': ', '.join(cues), \n",
    "            'ground solution': solution,\n",
    "            'solutions': ', '.join(solutions),\n",
    "            'has_solution': has_solution,\n",
    "            'relation': ', '.join(relations)\n",
    "           } "
   ]
  },
  {
   "cell_type": "code",
   "execution_count": 128,
   "metadata": {},
   "outputs": [
    {
     "name": "stdout",
     "output_type": "stream",
     "text": [
      "Finished ['question', 'reply', 'solution']. Timestamp: 0.0 min\n",
      "Finished ['sensitive', 'sob', 'weep']. Timestamp: 0.04 min\n",
      "Finished ['antlers', 'doe', 'fawn']. Timestamp: 0.06 min\n",
      "Finished ['bud', 'dandelion', 'petals']. Timestamp: 0.07 min\n",
      "Finished ['colt', 'mare', 'unicorn']. Timestamp: 0.09 min\n",
      "Finished ['crown', 'royaly', 'throne']. Timestamp: 0.1 min\n",
      "No label for the node \"royaly\"... Are you sure the spelling is correct?\n",
      "Finished ['algebra', 'calculus', 'trigonometry']. Timestamp: 0.17 min\n",
      "Finished ['pedal', 'pull', 'shove']. Timestamp: 0.2 min\n",
      "Finished ['clockwise', 'left', 'wrong']. Timestamp: 0.23 min\n",
      "Finished ['flu', 'nauseous', 'virus']. Timestamp: 0.26 min\n",
      "Finished ['astronomy', 'moon', 'twinkle']. Timestamp: 0.3 min\n",
      "Finished ['bait', 'pond', 'tuna']. Timestamp: 0.44 min\n",
      "Finished ['bandaid', 'trim', 'wound']. Timestamp: 0.47 min\n",
      "Finished ['gravity', 'low', 'up']. Timestamp: 0.5 min\n",
      "Finished ['emergency', 'rapid', 'slow']. Timestamp: 0.57 min\n",
      "Finished ['brawl', 'debate', 'soldier']. Timestamp: 0.6 min\n",
      "Finished ['birds', 'frog', 'kite']. Timestamp: 0.64 min\n",
      "Finished ['finger', 'glove', 'palm']. Timestamp: 0.67 min\n",
      "Finished ['bed', 'darkness', 'sedative']. Timestamp: 0.74 min\n",
      "Finished ['discuss', 'gossip', 'telephone']. Timestamp: 0.82 min\n",
      "Finished ['fangs', 'gums', 'wolf']. Timestamp: 0.9 min\n",
      "Finished ['marsh', 'saliva', 'slippery']. Timestamp: 0.93 min\n",
      "Finished ['dictionary', 'verse', 'vocabulary']. Timestamp: 0.95 min\n",
      "Finished ['fault', 'incorrect', 'unjust']. Timestamp: 0.98 min\n"
     ]
    }
   ],
   "source": [
    "# temp_df = df.copy()\n",
    "concat = df.w1 + ' ' + df.w2 + ' ' + df.w3\n",
    "concat = concat[:-1] # remove last nan element\n",
    "cues = [list(map(lambda x: x.lower(), filter(len, line.split(' ')))) for line in concat]\n",
    "start_time = time.time()\n",
    "output = []\n",
    "index = 0\n",
    "total = 0\n",
    "tp = 0\n",
    "\n",
    "for cue in cues:\n",
    "    results = []\n",
    "    solution = df.iloc[index].wans\n",
    "    index +=1 \n",
    "    print('Finished {}. Timestamp: {} min'.format(cue, round((time.time()-start_time)/60, 2)))\n",
    "\n",
    "    for c in cue:\n",
    "        results.append(get_nodes(c))\n",
    "    \n",
    "    for result, cue in checker(results, check_for, t, cue):\n",
    "        total += 1\n",
    "        has_solution = any(solution.strip() in res[0] for res in result)\n",
    "        if has_solution: tp+=1\n",
    "        output.append(get_output(result, cue, has_solution))\n",
    "    \n",
    "# save\n",
    "output.append({'Accuracy': str(round(100*tp/total, 2)) + '%'})\n",
    "data = pd.DataFrame(output)\n",
    "data.to_excel('output_frat.xlsx', index=False)"
   ]
  },
  {
   "cell_type": "code",
   "execution_count": null,
   "metadata": {},
   "outputs": [],
   "source": []
  },
  {
   "cell_type": "code",
   "execution_count": null,
   "metadata": {},
   "outputs": [],
   "source": []
  },
  {
   "cell_type": "code",
   "execution_count": null,
   "metadata": {},
   "outputs": [],
   "source": []
  },
  {
   "cell_type": "code",
   "execution_count": null,
   "metadata": {},
   "outputs": [],
   "source": []
  },
  {
   "cell_type": "code",
   "execution_count": null,
   "metadata": {},
   "outputs": [],
   "source": []
  },
  {
   "cell_type": "markdown",
   "metadata": {},
   "source": [
    "# RAT\n",
    "## Search for related node intersection (compound words)"
   ]
  },
  {
   "cell_type": "code",
   "execution_count": 133,
   "metadata": {},
   "outputs": [
    {
     "name": "stdout",
     "output_type": "stream",
     "text": [
      "cottage_cheese :: cottage | derived_from\n",
      "cottage_food_operation :: cottage | derived_from\n",
      "cottage_hospital :: cottage | derived_from\n",
      "cottage_industry :: cottage | derived_from\n"
     ]
    }
   ],
   "source": [
    "# example\n",
    "word = 'cottage'\n",
    "for e in edges_for(Label.get(text=word).concepts, same_language=True):\n",
    "    if (e.start.text.find('_') != -1) & (e.start.text.find(word) != -1):\n",
    "        print(e.start.text, \"::\", e.end.text, \"|\", e.relation.name)\n",
    "    if (e.end.text.find('_') != -1) & (e.end.text.find(word) != -1):\n",
    "        print(e.start.text, \"::\", e.end.text, \"|\", e.relation.name) "
   ]
  },
  {
   "cell_type": "code",
   "execution_count": 134,
   "metadata": {},
   "outputs": [],
   "source": [
    "def get_compound_words(word):\n",
    "    \"\"\" Given a word, get all the compound words related to it as well as their relation name \"\"\"\n",
    "    result = []\n",
    "    relation = []\n",
    "    for e in edges_for(Label.get(text=word).concepts, same_language=True):\n",
    "        if (e.start.text.find('_') != -1) & (e.start.text.find(word) != -1):\n",
    "            result.append(e.start.text.replace(word, '').strip('_'))\n",
    "            relation.append(e.relation.name)\n",
    "        if (e.end.text.find('_') != -1) & (e.end.text.find(word) != -1):\n",
    "            result.append(e.end.text.replace(word, '').strip('_'))\n",
    "            relation.append(e.relation.name)\n",
    "\n",
    "    joint_result = []\n",
    "    for i in range(len(result)):\n",
    "        if result[i].find('_') != -1:\n",
    "            words = result[i].split('_')\n",
    "            for word in words:\n",
    "                if word != '': joint_result.append((word, relation[i]))\n",
    "        else:\n",
    "            joint_result.append((result[i], relation[i]))\n",
    "    return joint_result\n",
    "    # words can still be compounded, so we split them and merge the lists\n",
    "#     return list(itertools.chain(*[filter(len, word.split('_')) for word in result])), relation"
   ]
  },
  {
   "cell_type": "code",
   "execution_count": 135,
   "metadata": {},
   "outputs": [
    {
     "data": {
      "text/plain": [
       "[('cheese', 'derived_from'),\n",
       " ('food', 'derived_from'),\n",
       " ('operation', 'derived_from'),\n",
       " ('hospital', 'derived_from'),\n",
       " ('industry', 'derived_from')]"
      ]
     },
     "execution_count": 135,
     "metadata": {},
     "output_type": "execute_result"
    }
   ],
   "source": [
    "get_compound_words('cottage')"
   ]
  },
  {
   "cell_type": "code",
   "execution_count": 136,
   "metadata": {},
   "outputs": [],
   "source": [
    "def get_solution(result, cues, solution):\n",
    "    has_solution = solution in (tup[0].lower() for tup in result)\n",
    "    solution_count = 0\n",
    "    relation = ''\n",
    "    if (has_solution):\n",
    "        solution_count = 1\n",
    "        relation = ' | '.join([tup[0] + ' - ' + tup[1] for tup in result])\n",
    "\n",
    "    return {'RAT': ', '.join(cues), 'solution': solution, 'has_solution': has_solution, 'relation': relation}, solution_count, has_solution   \n",
    "\n",
    "\n",
    "def checker(cues, i, check_for='', t=False):\n",
    "    print('Getting compound words for {}, {} and {}...'.format(cues[0], cues[1], cues[2]))\n",
    "    result = list()\n",
    "    checks = [get_compound_words(cue) for cue in cues]\n",
    "    solution = df.Solutions.iloc[i].strip(' ').lower()\n",
    "    solution_count = 0\n",
    "\n",
    "    result_3 = set(checks[0]) & set(checks[1]) & set(checks[2])\n",
    "    result_0_1 = set(checks[0]) & set(checks[1])\n",
    "    result_0_2 = set(checks[0]) & set(checks[2])\n",
    "    result_1_2 = set(checks[1]) & set(checks[2])\n",
    "    \n",
    "    if check_for == '3':\n",
    "        results = [result_3]\n",
    "        cues = [[cues[0], cues[1], cues[2]]]\n",
    "    elif check_for == '2':\n",
    "        cues = [[cues[0], cues[1]], [cues[0], cues[2]], [cues[1], cues[2]]]\n",
    "        results = [result_0_1, result_0_2, result_1_2]\n",
    "    else:\n",
    "        cues = [[cues[0], cues[1], cues[2]], [cues[0], cues[1]], [cues[0], cues[2]], [cues[1], cues[2]]]\n",
    "        results = [result_3, result_0_1, result_0_2, result_1_2]\n",
    "    \n",
    "    for res, cue in zip(results, cues):\n",
    "        output, count, has_solution = get_solution(res, cue, solution)\n",
    "        if t: \n",
    "            if has_solution:\n",
    "                result.append(output)\n",
    "        else:\n",
    "            result.append(output)\n",
    "        solution_count += count\n",
    "        \n",
    "    return result, solution_count"
   ]
  },
  {
   "cell_type": "code",
   "execution_count": 137,
   "metadata": {},
   "outputs": [
    {
     "name": "stdout",
     "output_type": "stream",
     "text": [
      "Getting compound words for cottage, swiss and cake...\n"
     ]
    },
    {
     "data": {
      "text/plain": [
       "[{'RAT': 'cottage, swiss, cake',\n",
       "  'solution': 'cheese',\n",
       "  'has_solution': True,\n",
       "  'relation': 'cheese - derived_from'}]"
      ]
     },
     "execution_count": 137,
     "metadata": {},
     "output_type": "execute_result"
    }
   ],
   "source": [
    "# Example\n",
    "result, count = checker(['cottage', 'swiss', 'cake'], 0, '3', True)\n",
    "result"
   ]
  },
  {
   "cell_type": "code",
   "execution_count": null,
   "metadata": {},
   "outputs": [],
   "source": [
    "cues = [list(map(lambda x: x.lower(), filter(len, line.split(' ')))) for line in df.RAT.iloc[:]]\n",
    "\n",
    "result = list()\n",
    "solution_count = 0\n",
    "total_count = 0\n",
    "i = 0\n",
    "start_time = time.time()\n",
    "\n",
    "###### Set these two parameters\n",
    "\n",
    "check_for = '3' # check for tuples of 2 or 3?\n",
    "t = True # whether or not the solution should be contained\n",
    "\n",
    "######\n",
    "\n",
    "for cue in cues:\n",
    "    if check_for == '3': total_count +=1\n",
    "    if check_for == '2': total_count +=3\n",
    "    \n",
    "    output, count = checker(cue, i, check_for, t)\n",
    "    print('Finished. Timestamp: {} min'.format(round((time.time()-start_time)/60, 2)))\n",
    "    solution_count += count\n",
    "    \n",
    "    for out in output:\n",
    "        result.append(out)\n",
    "    i += 1\n",
    "\n",
    "# accuracy\n",
    "output.append({'Accuracy': str(round(100*solution_count/total_count, 2)) + '%'})\n",
    "          \n",
    "# save\n",
    "data = pd.DataFrame(result)\n",
    "data.to_excel('output_rat.xlsx', index=False)"
   ]
  },
  {
   "cell_type": "markdown",
   "metadata": {},
   "source": [
    "### WordNet"
   ]
  },
  {
   "cell_type": "code",
   "execution_count": null,
   "metadata": {},
   "outputs": [],
   "source": [
    "from nltk.corpus import wordnet as wn"
   ]
  },
  {
   "cell_type": "code",
   "execution_count": null,
   "metadata": {},
   "outputs": [],
   "source": [
    "wn.synsets('dog')"
   ]
  },
  {
   "cell_type": "code",
   "execution_count": null,
   "metadata": {},
   "outputs": [],
   "source": [
    "solution_count"
   ]
  },
  {
   "cell_type": "code",
   "execution_count": null,
   "metadata": {},
   "outputs": [],
   "source": []
  }
 ],
 "metadata": {
  "kernelspec": {
   "display_name": "Python 3",
   "language": "python",
   "name": "python3"
  },
  "language_info": {
   "codemirror_mode": {
    "name": "ipython",
    "version": 3
   },
   "file_extension": ".py",
   "mimetype": "text/x-python",
   "name": "python",
   "nbconvert_exporter": "python",
   "pygments_lexer": "ipython3",
   "version": "3.7.7"
  }
 },
 "nbformat": 4,
 "nbformat_minor": 4
}

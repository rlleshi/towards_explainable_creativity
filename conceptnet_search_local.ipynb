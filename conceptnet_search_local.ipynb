{
 "cells": [
  {
   "cell_type": "code",
   "execution_count": 1,
   "metadata": {},
   "outputs": [],
   "source": [
    "import time\n",
    "from itertools import repeat\n",
    "import os\n",
    "import numpy as np\n",
    "import pandas as pd\n",
    "from tqdm import tqdm\n",
    "\n",
    "import conceptnet_lite\n",
    "from conceptnet_lite import Label, edges_between, edges_for"
   ]
  },
  {
   "cell_type": "markdown",
   "metadata": {},
   "source": [
    "# ConceptNet Local Search\n",
    "\n",
    "[Git Repo](https://github.com/ldtoolkit/conceptnet-lite)"
   ]
  },
  {
   "cell_type": "code",
   "execution_count": 2,
   "metadata": {},
   "outputs": [],
   "source": [
    "## CACHING (!!! execute this cell only once !!!)\n",
    "#\n",
    "\n",
    "node_cache_1 = {}\n",
    "node_cache_2 = {}\n",
    "\n",
    "rel_cache = {}\n",
    "\n",
    "#\n",
    "##"
   ]
  },
  {
   "cell_type": "code",
   "execution_count": 10,
   "metadata": {},
   "outputs": [],
   "source": [
    "## Globals\n",
    "src = 'input/fRAT.csv'\n",
    "rat_frat = 'frat'\n",
    "check = '2,3'\n",
    "###"
   ]
  },
  {
   "cell_type": "code",
   "execution_count": 4,
   "metadata": {},
   "outputs": [],
   "source": [
    "def get_nodes_frat(node, depth=1):\n",
    "    \"\"\" Given a node, get all the other nodes related to it\n",
    "        The search is performed by looking at all the edges related to a particular node.\n",
    "\n",
    "        Returns:\n",
    "            dictionary of form:\n",
    "                {\"pick_someone's_brain\": ['related_to'], 'blindly': ['related_to'], ...  'cross_purpose': ['related_to']}\n",
    "    \"\"\"\n",
    "    if depth == 1:\n",
    "        if node in node_cache_1.keys():\n",
    "            return node_cache_1[node]\n",
    "    elif depth == 2:\n",
    "        if node in node_cache_2.keys():\n",
    "            return node_cache_2[node]\n",
    "    \n",
    "    try:\n",
    "        # edges starting from (our node)\n",
    "        if node in node_cache_1.keys():\n",
    "            nodes = node_cache_1[node]\n",
    "        else:\n",
    "            nodes = []\n",
    "            for e in edges_for(Label.get(text=node, language='en').concepts, same_language=True):\n",
    "                if e.start.text not in [node]:\n",
    "                    nodes.append((e.start.text, e.relation.name))\n",
    "                if e.end.text not in [node]:\n",
    "                    nodes.append((e.end.text, e.relation.name))\n",
    "\n",
    "        if depth == 2:\n",
    "            nodes2 = []\n",
    "            for n in nodes:\n",
    "                for e in edges_for(Label.get(text=n[0], language='en').concepts, same_language=True):\n",
    "                    if e.start.text not in [n[0]]:\n",
    "                        nodes2.append((e.start.text, e.relation.name))\n",
    "                    if e.end.text not in [n[0]]:\n",
    "                        nodes2.append((e.end.text, e.relation.name))\n",
    "\n",
    "        result = {}\n",
    "        for tup in list(set(nodes if depth == 1 else nodes2)):\n",
    "            if tup[0] not in result:\n",
    "                result[tup[0]] = list()\n",
    "                result[tup[0]].append(tup[1])\n",
    "            else:\n",
    "                result[tup[0]].append(tup[1])\n",
    "        \n",
    "        if depth == 1:\n",
    "            node_cache_1[node] = result  \n",
    "        else:\n",
    "            node_cache_2[node] = result\n",
    "        return result\n",
    "    except Exception as e:\n",
    "        msg = '!!!   No label for the node \"{}\"... Are you sure the spelling is correct?'.format(node)\n",
    "        print(msg, e)\n",
    "        return {}\n",
    "\n",
    "def get_nodes_rat(word):\n",
    "    \"\"\" Given a word, get all the compound words related to it as well as their relation name\n",
    "        Compound words are basically being identified by the underscore (_)\n",
    "    \"\"\"\n",
    "    # TODO: refactor the logic to be like frat\n",
    "    try:\n",
    "        result = []\n",
    "        relation = []\n",
    "        for e in edges_for(Label.get(text=word).concepts, same_language=True):\n",
    "            if (e.start.text.find('_') != -1) & (e.start.text.find(word) != -1):\n",
    "                result.append(e.start.text.replace(word, '').strip('_'))\n",
    "                relation.append(e.relation.name)\n",
    "            if (e.end.text.find('_') != -1) & (e.end.text.find(word) != -1):\n",
    "                result.append(e.end.text.replace(word, '').strip('_'))\n",
    "                relation.append(e.relation.name)\n",
    "\n",
    "        joint_result = []\n",
    "        for i in range(len(result)):\n",
    "            if result[i].find('_') != -1:\n",
    "                words = result[i].split('_')\n",
    "                for word in words:\n",
    "                    if word != '':\n",
    "                        joint_result.append((word, relation[i]))\n",
    "            else:\n",
    "                joint_result.append((result[i], relation[i]))\n",
    "\n",
    "        final_result = {}\n",
    "        for tup in list(set(joint_result)):\n",
    "            if tup[0] not in final_result:\n",
    "                final_result[tup[0]] = list()\n",
    "                final_result[tup[0]].append(tup[1])\n",
    "            else:\n",
    "                final_result[tup[0]].append(tup[1])\n",
    "        return final_result\n",
    "    except Exception as e:\n",
    "        msg = '!!!   No label for the node \"{}\"... Are you sure the spelling is correct?'.format(node)\n",
    "        print(msg, e)\n",
    "        return {}"
   ]
  },
  {
   "cell_type": "code",
   "execution_count": 5,
   "metadata": {},
   "outputs": [],
   "source": [
    "def get_conceptnet():\n",
    "    conceptnet_lite.connect('conceptnet_database.db')\n",
    "\n",
    "def save_csv(rat_frat, check, output):\n",
    "    output = pd.DataFrame(list(output))\n",
    "    f_name = rat_frat + '_' + str(check) + '_conceptnet_search.xlsx'\n",
    "    dIr = os.path.join('output', rat_frat)\n",
    "    if not os.path.exists(dIr):\n",
    "        os.mkdir(dIr)\n",
    "    output.to_excel(os.path.join(dIr, f_name), index=False)\n",
    "    print('Saved results in {}'.format(f_name))\n",
    "    \n",
    "def check_for(relation_dict, check_for, query):\n",
    "    results = [set(relation_dict[key].keys()) for key in relation_dict.keys()]\n",
    "    \n",
    "    if (len(query) == 2) & ('2' in check_for):\n",
    "        yield results[0] & results[1], [query[0], query[1]]\n",
    "    \n",
    "    if (len(query) == 3) & ('2' in check_for):\n",
    "        yield results[0] & results[1], [query[0], query[1]]\n",
    "        yield results[0] & results[2], [query[0], query[2]]\n",
    "        yield results[1] & results[2], [query[1], query[2]]\n",
    "    \n",
    "    if (len(query) == 3) & ('3' in check_for):\n",
    "        yield results[0] & results[1] & results[2], [query[0], query[1], query[2]]\n",
    "    \n",
    "\n",
    "def get_output(solutions, query, relation_dict, ground_solution, has_solution):\n",
    "    \"\"\" rel_general = True defines whether the relationships should be constructed for all nodes.\n",
    "        set to False for depth 2 because so many nodes\"\"\"\n",
    "    solutions = list(solutions)    \n",
    "    relations = [] # both directions\n",
    "    to_solution = [] # node -> solution\n",
    "    from_solution = [] # solution -> node\n",
    "    \n",
    "    # build a relationship message for: (1) node, (2) relation (3) solution\n",
    "    # For example:\n",
    "    #\n",
    "    # cues: antlers, doe, fawn\n",
    "    # relation: related_to\n",
    "    # solution: deer\n",
    "    # relationship message: antler is related_to deer, doe is related_to to deer, fawn is related_to to deer\n",
    "    if has_solution:\n",
    "        for node in query:\n",
    "            for sol in solutions:\n",
    "                rel = ', '.join(relation_dict[node][sol.strip()]) # get the relationships for each node and solution\n",
    "                relations.append(node + ' is \"'+ rel + '\" to ' + sol)\n",
    "\n",
    "                key = node + ' - ' + sol\n",
    "                if key in rel_cache.keys():\n",
    "                    for r in rel_cache[key]:\n",
    "                        from_solution.append(r)\n",
    "                else:\n",
    "                    rel_cache[key] = []                \n",
    "                    for e in edges_between(Label.get(text=node, language='en').concepts, Label.get(text=sol, language='en').concepts):\n",
    "                        rel = e.start.text + ' is \"' + e.relation.name + '\" to ' + e.end.text\n",
    "                        to_solution.append(rel)\n",
    "                        rel_cache[key].append(rel)\n",
    "\n",
    "        for sol in solutions:\n",
    "            for node in query:\n",
    "                key = sol + ' - ' + node\n",
    "                if key in rel_cache.keys():\n",
    "                    for r in rel_cache[key]:\n",
    "                        from_solution.append(r)\n",
    "                else:\n",
    "                    rel_cache[key] = []                \n",
    "                    for e in edges_between(Label.get(text=sol, language='en').concepts, Label.get(text=node, language='en').concepts):\n",
    "                        rel = e.start.text + ' is \"' + e.relation.name + '\" to ' + e.end.text\n",
    "                        from_solution.append(rel)\n",
    "                        rel_cache[key].append(rel)\n",
    "\n",
    "    return {'FrAt': ', '.join(query),\n",
    "            'ground solution': ground_solution,\n",
    "            'solutions': ', '.join(solutions),\n",
    "            'has_solution': has_solution,\n",
    "            'relation': ' | '.join(relations),\n",
    "            'relation_to_solution': ' | '.join(to_solution),\n",
    "            'relation_from_solution': ' | '.join(from_solution)}"
   ]
  },
  {
   "cell_type": "code",
   "execution_count": 12,
   "metadata": {},
   "outputs": [],
   "source": [
    "def compute(items):\n",
    "    index, query, df, args, output, accuracy = items\n",
    "    get_nodes = get_nodes_rat if args[0] == 'rat' else get_nodes_frat\n",
    "    ground_solution = df.iloc[index].wans\n",
    "    relation_dict = {}\n",
    "    for node in query:\n",
    "        relation_dict[node] = get_nodes(node)\n",
    "    \n",
    "    # the format of the relation_dict at this point would be\n",
    "    #\n",
    "    # { 'query_node': {'related_node_1': ['relation_1', 'relation_2'], ..., 'related_node_n': ['relation_1']}\n",
    "    #  'question': {\"pick_someone's_brain\": ['related_to'], 'blindly': ['related_to'], ... 'cross_purpose': ['related_to']},\n",
    "    #  'reply': {'repone': ['related_to'], ... 'sentences': ['related_to']},\n",
    "    #  'solution': {'solutionism': ['derived_from', 'related_to'],... 'exhibit': ['related_to']}\n",
    "    # }\n",
    "    checked = []\n",
    "    for result, quer in check_for(relation_dict, args[1], query):\n",
    "        print('Checking triple {}...'.format(quer))\n",
    "        accuracy['total'] += 1\n",
    "        has_solution = any(ground_solution.lower().strip() == node for node in result)\n",
    "        if has_solution:\n",
    "            accuracy['tp'] += 1\n",
    "            checked.append(quer)\n",
    "            output.append(get_output(result, quer, relation_dict, ground_solution, has_solution))\n",
    "        else:\n",
    "            relation_dict2 = {}\n",
    "            print('Checking depth 2 for triple {}...'.format(quer))\n",
    "            for node in quer:\n",
    "                relation_dict2[node] = get_nodes(node, 2)\n",
    "            for result2, quer2 in check_for(relation_dict2, args[1], quer):\n",
    "                if any((quer2 == q for q in checked)):\n",
    "                    continue\n",
    "                \n",
    "                checked.append(quer2)\n",
    "                has_solution = any(ground_solution.lower().strip() == node for node in result2)\n",
    "                if has_solution:\n",
    "                    accuracy['tp'] += 1\n",
    "                        \n",
    "                output.append(get_output(result2, quer2, relation_dict2, ground_solution, has_solution))\n",
    "                        \n",
    "    return output, accuracy"
   ]
  },
  {
   "cell_type": "code",
   "execution_count": 11,
   "metadata": {},
   "outputs": [
    {
     "name": "stderr",
     "output_type": "stream",
     "text": [
      "\r",
      "0it [00:00, ?it/s]"
     ]
    },
    {
     "name": "stdout",
     "output_type": "stream",
     "text": [
      "Checking triple ['question', 'reply']...\n",
      "Checking triple ['question', 'solution']...\n"
     ]
    },
    {
     "name": "stderr",
     "output_type": "stream",
     "text": [
      "\r",
      "1it [00:01,  1.52s/it]"
     ]
    },
    {
     "name": "stdout",
     "output_type": "stream",
     "text": [
      "Checking triple ['reply', 'solution']...\n",
      "Checking triple ['question', 'reply', 'solution']...\n",
      "Checking triple ['sensitive', 'sob']...\n",
      "Checking depth 2 for triple ['sensitive', 'sob']...\n",
      "Checking depth 2 for tuple ['sensitive', 'sob']...\n",
      "Checking triple ['sensitive', 'weep']...\n",
      "Checking depth 2 for triple ['sensitive', 'weep']...\n",
      "Checking depth 2 for tuple ['sensitive', 'weep']...\n",
      "Checking triple ['sob', 'weep']...\n"
     ]
    },
    {
     "name": "stderr",
     "output_type": "stream",
     "text": [
      "\r",
      "2it [00:04,  1.82s/it]"
     ]
    },
    {
     "name": "stdout",
     "output_type": "stream",
     "text": [
      "Checking triple ['sensitive', 'sob', 'weep']...\n",
      "Checking depth 2 for triple ['sensitive', 'sob', 'weep']...\n",
      "Checking depth 2 for tuple ['sensitive', 'sob']...\n",
      "Checking depth 2 for tuple ['sensitive', 'weep']...\n",
      "Checking depth 2 for tuple ['sob', 'weep']...\n",
      "Checking depth 2 for tuple ['sensitive', 'sob', 'weep']...\n",
      "Checking triple ['antlers', 'doe']...\n",
      "Checking triple ['antlers', 'fawn']...\n",
      "Checking triple ['doe', 'fawn']...\n"
     ]
    },
    {
     "name": "stderr",
     "output_type": "stream",
     "text": [
      "\r",
      "3it [00:05,  1.65s/it]"
     ]
    },
    {
     "name": "stdout",
     "output_type": "stream",
     "text": [
      "Checking triple ['antlers', 'doe', 'fawn']...\n",
      "Checking triple ['bud', 'dandelion']...\n"
     ]
    },
    {
     "name": "stderr",
     "output_type": "stream",
     "text": [
      "\r",
      "4it [00:06,  1.39s/it]"
     ]
    },
    {
     "name": "stdout",
     "output_type": "stream",
     "text": [
      "Checking triple ['bud', 'petals']...\n",
      "Checking triple ['dandelion', 'petals']...\n",
      "Checking triple ['bud', 'dandelion', 'petals']...\n",
      "Checking triple ['colt', 'mare']...\n",
      "Checking triple ['colt', 'unicorn']...\n",
      "Checking triple ['mare', 'unicorn']...\n"
     ]
    },
    {
     "name": "stderr",
     "output_type": "stream",
     "text": [
      "\r",
      "5it [00:06,  1.11s/it]"
     ]
    },
    {
     "name": "stdout",
     "output_type": "stream",
     "text": [
      "Checking triple ['colt', 'mare', 'unicorn']...\n",
      "!!!   No label for the node \"royaly\"... Are you sure the spelling is correct? <Model: Label> instance matching query does not exist:\n",
      "SQL: SELECT \"t1\".\"id\", \"t1\".\"text\", \"t1\".\"language_id\" FROM \"label\" AS \"t1\" WHERE ((\"t1\".\"language_id\" = ?) AND (\"t1\".\"text\" = ?)) LIMIT ? OFFSET ?\n",
      "Params: [30, 'royaly', 1, 0]\n",
      "Checking triple ['crown', 'royaly']...\n",
      "Checking depth 2 for triple ['crown', 'royaly']...\n",
      "!!!   No label for the node \"royaly\"... Are you sure the spelling is correct? <Model: Label> instance matching query does not exist:\n",
      "SQL: SELECT \"t1\".\"id\", \"t1\".\"text\", \"t1\".\"language_id\" FROM \"label\" AS \"t1\" WHERE ((\"t1\".\"language_id\" = ?) AND (\"t1\".\"text\" = ?)) LIMIT ? OFFSET ?\n",
      "Params: [30, 'royaly', 1, 0]\n",
      "Checking depth 2 for tuple ['crown', 'royaly']...\n",
      "Checking triple ['crown', 'throne']...\n",
      "Checking triple ['royaly', 'throne']...\n",
      "Checking depth 2 for triple ['royaly', 'throne']...\n",
      "!!!   No label for the node \"royaly\"... Are you sure the spelling is correct? <Model: Label> instance matching query does not exist:\n",
      "SQL: SELECT \"t1\".\"id\", \"t1\".\"text\", \"t1\".\"language_id\" FROM \"label\" AS \"t1\" WHERE ((\"t1\".\"language_id\" = ?) AND (\"t1\".\"text\" = ?)) LIMIT ? OFFSET ?\n",
      "Params: [30, 'royaly', 1, 0]\n",
      "Checking depth 2 for tuple ['royaly', 'throne']...\n",
      "Checking triple ['crown', 'royaly', 'throne']...\n",
      "Checking depth 2 for triple ['crown', 'royaly', 'throne']...\n"
     ]
    },
    {
     "name": "stderr",
     "output_type": "stream",
     "text": [
      "\r",
      "6it [00:10,  2.06s/it]"
     ]
    },
    {
     "name": "stdout",
     "output_type": "stream",
     "text": [
      "!!!   No label for the node \"royaly\"... Are you sure the spelling is correct? <Model: Label> instance matching query does not exist:\n",
      "SQL: SELECT \"t1\".\"id\", \"t1\".\"text\", \"t1\".\"language_id\" FROM \"label\" AS \"t1\" WHERE ((\"t1\".\"language_id\" = ?) AND (\"t1\".\"text\" = ?)) LIMIT ? OFFSET ?\n",
      "Params: [30, 'royaly', 1, 0]\n",
      "Checking depth 2 for tuple ['crown', 'royaly']...\n",
      "Checking depth 2 for tuple ['crown', 'throne']...\n",
      "Checking depth 2 for tuple ['royaly', 'throne']...\n",
      "Checking depth 2 for tuple ['crown', 'royaly', 'throne']...\n",
      "Checking triple ['algebra', 'calculus']...\n"
     ]
    },
    {
     "name": "stderr",
     "output_type": "stream",
     "text": [
      "\r",
      "7it [00:15,  2.97s/it]"
     ]
    },
    {
     "name": "stdout",
     "output_type": "stream",
     "text": [
      "Checking triple ['algebra', 'trigonometry']...\n",
      "Checking depth 2 for triple ['algebra', 'trigonometry']...\n",
      "Checking depth 2 for tuple ['algebra', 'trigonometry']...\n",
      "Checking triple ['calculus', 'trigonometry']...\n",
      "Checking depth 2 for triple ['calculus', 'trigonometry']...\n",
      "Checking depth 2 for tuple ['calculus', 'trigonometry']...\n",
      "Checking triple ['algebra', 'calculus', 'trigonometry']...\n",
      "Checking depth 2 for triple ['algebra', 'calculus', 'trigonometry']...\n",
      "Checking depth 2 for tuple ['algebra', 'calculus']...\n",
      "Checking depth 2 for tuple ['algebra', 'trigonometry']...\n",
      "Checking depth 2 for tuple ['calculus', 'trigonometry']...\n",
      "Checking depth 2 for tuple ['algebra', 'calculus', 'trigonometry']...\n",
      "Checking triple ['pedal', 'pull']...\n",
      "Checking depth 2 for triple ['pedal', 'pull']...\n",
      "Checking depth 2 for tuple ['pedal', 'pull']...\n",
      "Checking triple ['pedal', 'shove']...\n",
      "Checking depth 2 for triple ['pedal', 'shove']...\n",
      "Checking depth 2 for tuple ['pedal', 'shove']...\n",
      "Checking triple ['pull', 'shove']...\n"
     ]
    },
    {
     "name": "stderr",
     "output_type": "stream",
     "text": [
      "\r",
      "8it [00:16,  2.19s/it]"
     ]
    },
    {
     "name": "stdout",
     "output_type": "stream",
     "text": [
      "Checking triple ['pedal', 'pull', 'shove']...\n",
      "Checking depth 2 for triple ['pedal', 'pull', 'shove']...\n",
      "Checking depth 2 for tuple ['pedal', 'pull']...\n",
      "Checking depth 2 for tuple ['pedal', 'shove']...\n",
      "Checking depth 2 for tuple ['pull', 'shove']...\n",
      "Checking depth 2 for tuple ['pedal', 'pull', 'shove']...\n",
      "Checking triple ['clockwise', 'left']...\n",
      "Checking depth 2 for triple ['clockwise', 'left']...\n",
      "Checking depth 2 for tuple ['clockwise', 'left']...\n",
      "Checking triple ['clockwise', 'wrong']...\n",
      "Checking depth 2 for triple ['clockwise', 'wrong']...\n",
      "Checking depth 2 for tuple ['clockwise', 'wrong']...\n",
      "Checking triple ['left', 'wrong']...\n"
     ]
    },
    {
     "name": "stderr",
     "output_type": "stream",
     "text": [
      "\r",
      "9it [00:26,  4.57s/it]"
     ]
    },
    {
     "name": "stdout",
     "output_type": "stream",
     "text": [
      "Checking triple ['clockwise', 'left', 'wrong']...\n",
      "Checking depth 2 for triple ['clockwise', 'left', 'wrong']...\n",
      "Checking depth 2 for tuple ['clockwise', 'left']...\n",
      "Checking depth 2 for tuple ['clockwise', 'wrong']...\n",
      "Checking depth 2 for tuple ['left', 'wrong']...\n",
      "Checking depth 2 for tuple ['clockwise', 'left', 'wrong']...\n",
      "Checking triple ['flu', 'nauseous']...\n",
      "Checking triple ['flu', 'virus']...\n",
      "Checking depth 2 for triple ['flu', 'virus']...\n",
      "Checking depth 2 for tuple ['flu', 'virus']...\n",
      "Checking triple ['nauseous', 'virus']...\n",
      "Checking depth 2 for triple ['nauseous', 'virus']...\n",
      "Checking depth 2 for tuple ['nauseous', 'virus']...\n",
      "Checking triple ['flu', 'nauseous', 'virus']...\n",
      "Checking depth 2 for triple ['flu', 'nauseous', 'virus']...\n",
      "Checking depth 2 for tuple ['flu', 'nauseous']...\n",
      "Checking depth 2 for tuple ['flu', 'virus']...\n",
      "Checking depth 2 for tuple ['nauseous', 'virus']...\n",
      "Checking depth 2 for tuple ['flu', 'nauseous', 'virus']...\n",
      "Checking triple ['astronomy', 'moon']...\n",
      "Checking triple ['astronomy', 'twinkle']...\n",
      "Checking triple ['moon', 'twinkle']...\n"
     ]
    },
    {
     "name": "stderr",
     "output_type": "stream",
     "text": [
      "12it [01:20,  7.97s/it]"
     ]
    },
    {
     "name": "stdout",
     "output_type": "stream",
     "text": [
      "Checking triple ['astronomy', 'moon', 'twinkle']...\n",
      "Checking triple ['bait', 'pond']...\n",
      "Checking triple ['bait', 'tuna']...\n",
      "Checking triple ['pond', 'tuna']...\n",
      "Checking triple ['bait', 'pond', 'tuna']...\n",
      "Checking triple ['bandaid', 'trim']...\n",
      "Checking depth 2 for triple ['bandaid', 'trim']...\n",
      "Checking depth 2 for tuple ['bandaid', 'trim']...\n",
      "Checking triple ['bandaid', 'wound']...\n",
      "Checking depth 2 for triple ['bandaid', 'wound']...\n",
      "Checking depth 2 for tuple ['bandaid', 'wound']...\n",
      "Checking triple ['trim', 'wound']...\n"
     ]
    },
    {
     "name": "stderr",
     "output_type": "stream",
     "text": [
      "\r",
      "13it [01:20,  5.64s/it]"
     ]
    },
    {
     "name": "stdout",
     "output_type": "stream",
     "text": [
      "Checking triple ['bandaid', 'trim', 'wound']...\n",
      "Checking depth 2 for triple ['bandaid', 'trim', 'wound']...\n",
      "Checking depth 2 for tuple ['bandaid', 'trim']...\n",
      "Checking depth 2 for tuple ['bandaid', 'wound']...\n",
      "Checking depth 2 for tuple ['trim', 'wound']...\n",
      "Checking depth 2 for tuple ['bandaid', 'trim', 'wound']...\n",
      "Checking triple ['gravity', 'low']...\n",
      "Checking triple ['gravity', 'up']...\n",
      "Checking triple ['low', 'up']...\n"
     ]
    },
    {
     "name": "stderr",
     "output_type": "stream",
     "text": [
      "\r",
      "14it [01:22,  4.40s/it]"
     ]
    },
    {
     "name": "stdout",
     "output_type": "stream",
     "text": [
      "Checking triple ['gravity', 'low', 'up']...\n",
      "Checking triple ['emergency', 'rapid']...\n",
      "Checking depth 2 for triple ['emergency', 'rapid']...\n",
      "Checking depth 2 for tuple ['emergency', 'rapid']...\n",
      "Checking triple ['emergency', 'slow']...\n",
      "Checking depth 2 for triple ['emergency', 'slow']...\n",
      "Checking depth 2 for tuple ['emergency', 'slow']...\n",
      "Checking triple ['rapid', 'slow']...\n"
     ]
    },
    {
     "name": "stderr",
     "output_type": "stream",
     "text": [
      "\r",
      "15it [01:22,  3.26s/it]"
     ]
    },
    {
     "name": "stdout",
     "output_type": "stream",
     "text": [
      "Checking triple ['emergency', 'rapid', 'slow']...\n",
      "Checking depth 2 for triple ['emergency', 'rapid', 'slow']...\n",
      "Checking depth 2 for tuple ['emergency', 'rapid']...\n",
      "Checking depth 2 for tuple ['emergency', 'slow']...\n",
      "Checking depth 2 for tuple ['rapid', 'slow']...\n",
      "Checking depth 2 for tuple ['emergency', 'rapid', 'slow']...\n",
      "Checking triple ['brawl', 'debate']...\n",
      "Checking triple ['brawl', 'soldier']...\n",
      "Checking triple ['debate', 'soldier']...\n",
      "Checking triple ['brawl', 'debate', 'soldier']...\n",
      "Checking triple ['birds', 'frog']...\n",
      "Checking depth 2 for triple ['birds', 'frog']...\n",
      "Checking depth 2 for tuple ['birds', 'frog']...\n",
      "Checking triple ['birds', 'kite']...\n"
     ]
    },
    {
     "name": "stderr",
     "output_type": "stream",
     "text": [
      "\r",
      "17it [01:23,  2.33s/it]"
     ]
    },
    {
     "name": "stdout",
     "output_type": "stream",
     "text": [
      "Checking triple ['frog', 'kite']...\n",
      "Checking depth 2 for triple ['frog', 'kite']...\n",
      "Checking depth 2 for tuple ['frog', 'kite']...\n",
      "Checking triple ['birds', 'frog', 'kite']...\n",
      "Checking depth 2 for triple ['birds', 'frog', 'kite']...\n",
      "Checking depth 2 for tuple ['birds', 'frog']...\n",
      "Checking depth 2 for tuple ['birds', 'kite']...\n",
      "Checking depth 2 for tuple ['frog', 'kite']...\n",
      "Checking depth 2 for tuple ['birds', 'frog', 'kite']...\n",
      "Checking triple ['finger', 'glove']...\n",
      "Checking triple ['finger', 'palm']...\n"
     ]
    },
    {
     "name": "stderr",
     "output_type": "stream",
     "text": [
      "\r",
      "18it [01:29,  3.36s/it]"
     ]
    },
    {
     "name": "stdout",
     "output_type": "stream",
     "text": [
      "Checking triple ['glove', 'palm']...\n",
      "Checking triple ['finger', 'glove', 'palm']...\n",
      "Checking triple ['bed', 'darkness']...\n",
      "Checking depth 2 for triple ['bed', 'darkness']...\n",
      "Checking depth 2 for tuple ['bed', 'darkness']...\n",
      "Checking triple ['bed', 'sedative']...\n"
     ]
    },
    {
     "name": "stderr",
     "output_type": "stream",
     "text": [
      "\r",
      "19it [01:29,  2.40s/it]"
     ]
    },
    {
     "name": "stdout",
     "output_type": "stream",
     "text": [
      "Checking triple ['darkness', 'sedative']...\n",
      "Checking depth 2 for triple ['darkness', 'sedative']...\n",
      "Checking depth 2 for tuple ['darkness', 'sedative']...\n",
      "Checking triple ['bed', 'darkness', 'sedative']...\n",
      "Checking depth 2 for triple ['bed', 'darkness', 'sedative']...\n",
      "Checking depth 2 for tuple ['bed', 'darkness']...\n",
      "Checking depth 2 for tuple ['bed', 'sedative']...\n",
      "Checking depth 2 for tuple ['darkness', 'sedative']...\n",
      "Checking depth 2 for tuple ['bed', 'darkness', 'sedative']...\n",
      "Checking triple ['discuss', 'gossip']...\n"
     ]
    },
    {
     "name": "stderr",
     "output_type": "stream",
     "text": [
      "\r",
      "20it [01:29,  1.86s/it]"
     ]
    },
    {
     "name": "stdout",
     "output_type": "stream",
     "text": [
      "Checking triple ['discuss', 'telephone']...\n",
      "Checking triple ['gossip', 'telephone']...\n",
      "Checking triple ['discuss', 'gossip', 'telephone']...\n",
      "Checking triple ['fangs', 'gums']...\n",
      "Checking depth 2 for triple ['fangs', 'gums']...\n",
      "Checking depth 2 for tuple ['fangs', 'gums']...\n",
      "Checking triple ['fangs', 'wolf']...\n",
      "Checking depth 2 for triple ['fangs', 'wolf']...\n",
      "Checking depth 2 for tuple ['fangs', 'wolf']...\n",
      "Checking triple ['gums', 'wolf']...\n",
      "Checking depth 2 for triple ['gums', 'wolf']...\n",
      "Checking depth 2 for tuple ['gums', 'wolf']...\n",
      "Checking triple ['fangs', 'gums', 'wolf']...\n",
      "Checking depth 2 for triple ['fangs', 'gums', 'wolf']...\n",
      "Checking depth 2 for tuple ['fangs', 'gums']...\n",
      "Checking depth 2 for tuple ['fangs', 'wolf']...\n",
      "Checking depth 2 for tuple ['gums', 'wolf']...\n",
      "Checking depth 2 for tuple ['fangs', 'gums', 'wolf']...\n",
      "Checking triple ['marsh', 'saliva']...\n",
      "Checking depth 2 for triple ['marsh', 'saliva']...\n",
      "Checking depth 2 for tuple ['marsh', 'saliva']...\n",
      "Checking triple ['marsh', 'slippery']...\n",
      "Checking depth 2 for triple ['marsh', 'slippery']...\n",
      "Checking depth 2 for tuple ['marsh', 'slippery']...\n",
      "Checking triple ['saliva', 'slippery']...\n",
      "Checking depth 2 for triple ['saliva', 'slippery']...\n",
      "Checking depth 2 for tuple ['saliva', 'slippery']...\n",
      "Checking triple ['marsh', 'saliva', 'slippery']...\n",
      "Checking depth 2 for triple ['marsh', 'saliva', 'slippery']...\n",
      "Checking depth 2 for tuple ['marsh', 'saliva']...\n",
      "Checking depth 2 for tuple ['marsh', 'slippery']...\n",
      "Checking depth 2 for tuple ['saliva', 'slippery']...\n",
      "Checking depth 2 for tuple ['marsh', 'saliva', 'slippery']...\n",
      "Checking triple ['dictionary', 'verse']...\n",
      "Checking depth 2 for triple ['dictionary', 'verse']...\n",
      "Checking depth 2 for tuple ['dictionary', 'verse']...\n",
      "Checking triple ['dictionary', 'vocabulary']...\n",
      "Checking depth 2 for triple ['dictionary', 'vocabulary']...\n",
      "Checking depth 2 for tuple ['dictionary', 'vocabulary']...\n",
      "Checking triple ['verse', 'vocabulary']...\n",
      "Checking depth 2 for triple ['verse', 'vocabulary']...\n",
      "Checking depth 2 for tuple ['verse', 'vocabulary']...\n",
      "Checking triple ['dictionary', 'verse', 'vocabulary']...\n",
      "Checking depth 2 for triple ['dictionary', 'verse', 'vocabulary']...\n",
      "Checking depth 2 for tuple ['dictionary', 'verse']...\n",
      "Checking depth 2 for tuple ['dictionary', 'vocabulary']...\n",
      "Checking depth 2 for tuple ['verse', 'vocabulary']...\n",
      "Checking depth 2 for tuple ['dictionary', 'verse', 'vocabulary']...\n",
      "Checking triple ['fault', 'incorrect']...\n",
      "Checking depth 2 for triple ['fault', 'incorrect']...\n",
      "Checking depth 2 for tuple ['fault', 'incorrect']...\n",
      "Checking triple ['fault', 'unjust']...\n",
      "Checking depth 2 for triple ['fault', 'unjust']...\n",
      "Checking depth 2 for tuple ['fault', 'unjust']...\n",
      "Checking triple ['incorrect', 'unjust']...\n"
     ]
    },
    {
     "name": "stderr",
     "output_type": "stream",
     "text": [
      "\r",
      "24it [01:29,  1.31s/it]"
     ]
    },
    {
     "name": "stdout",
     "output_type": "stream",
     "text": [
      "Checking triple ['fault', 'incorrect', 'unjust']...\n",
      "Checking depth 2 for triple ['fault', 'incorrect', 'unjust']...\n",
      "Checking depth 2 for tuple ['fault', 'incorrect']...\n",
      "Checking depth 2 for tuple ['fault', 'unjust']...\n",
      "Checking depth 2 for tuple ['incorrect', 'unjust']...\n",
      "Checking depth 2 for tuple ['fault', 'incorrect', 'unjust']...\n",
      "Checking triple ['murder', 'operate']...\n",
      "Checking depth 2 for triple ['murder', 'operate']...\n",
      "Checking depth 2 for tuple ['murder', 'operate']...\n"
     ]
    },
    {
     "name": "stderr",
     "output_type": "stream",
     "text": [
      "\r",
      "25it [01:43,  5.09s/it]"
     ]
    },
    {
     "name": "stdout",
     "output_type": "stream",
     "text": [
      "Checking triple ['murder', 'vein']...\n",
      "Checking depth 2 for triple ['murder', 'vein']...\n",
      "Checking depth 2 for tuple ['murder', 'vein']...\n",
      "Checking triple ['operate', 'vein']...\n",
      "Checking depth 2 for triple ['operate', 'vein']...\n",
      "Checking depth 2 for tuple ['operate', 'vein']...\n",
      "Checking triple ['murder', 'operate', 'vein']...\n",
      "Checking depth 2 for triple ['murder', 'operate', 'vein']...\n",
      "Checking depth 2 for tuple ['murder', 'operate']...\n",
      "Checking depth 2 for tuple ['murder', 'vein']...\n",
      "Checking depth 2 for tuple ['operate', 'vein']...\n",
      "Checking depth 2 for tuple ['murder', 'operate', 'vein']...\n",
      "Checking triple ['empire', 'moat']...\n",
      "Checking depth 2 for triple ['empire', 'moat']...\n",
      "Checking depth 2 for tuple ['empire', 'moat']...\n",
      "Checking triple ['empire', 'princess']...\n",
      "Checking depth 2 for triple ['empire', 'princess']...\n",
      "Checking depth 2 for tuple ['empire', 'princess']...\n",
      "Checking triple ['moat', 'princess']...\n"
     ]
    },
    {
     "name": "stderr",
     "output_type": "stream",
     "text": [
      "\r",
      "26it [01:44,  3.69s/it]"
     ]
    },
    {
     "name": "stdout",
     "output_type": "stream",
     "text": [
      "Checking triple ['empire', 'moat', 'princess']...\n",
      "Checking depth 2 for triple ['empire', 'moat', 'princess']...\n",
      "Checking depth 2 for tuple ['empire', 'moat']...\n",
      "Checking depth 2 for tuple ['empire', 'princess']...\n",
      "Checking depth 2 for tuple ['moat', 'princess']...\n",
      "Checking depth 2 for tuple ['empire', 'moat', 'princess']...\n",
      "Checking triple ['bench', 'sofa']...\n",
      "Checking triple ['bench', 'stool']...\n",
      "Checking triple ['sofa', 'stool']...\n"
     ]
    },
    {
     "name": "stderr",
     "output_type": "stream",
     "text": [
      "\r",
      "27it [01:45,  2.94s/it]"
     ]
    },
    {
     "name": "stdout",
     "output_type": "stream",
     "text": [
      "Checking triple ['bench', 'sofa', 'stool']...\n",
      "Checking triple ['beaker', 'flask']...\n",
      "Checking depth 2 for triple ['beaker', 'flask']...\n",
      "Checking depth 2 for tuple ['beaker', 'flask']...\n",
      "Checking triple ['beaker', 'science']...\n",
      "Checking depth 2 for triple ['beaker', 'science']...\n",
      "Checking depth 2 for tuple ['beaker', 'science']...\n",
      "Checking triple ['flask', 'science']...\n"
     ]
    },
    {
     "name": "stderr",
     "output_type": "stream",
     "text": [
      "\r",
      "28it [01:46,  2.39s/it]"
     ]
    },
    {
     "name": "stdout",
     "output_type": "stream",
     "text": [
      "Checking triple ['beaker', 'flask', 'science']...\n",
      "Checking depth 2 for triple ['beaker', 'flask', 'science']...\n",
      "Checking depth 2 for tuple ['beaker', 'flask']...\n",
      "Checking depth 2 for tuple ['beaker', 'science']...\n",
      "Checking depth 2 for tuple ['flask', 'science']...\n",
      "Checking depth 2 for tuple ['beaker', 'flask', 'science']...\n",
      "!!!   No label for the node \"yo-yo\"... Are you sure the spelling is correct? <Model: Label> instance matching query does not exist:\n",
      "SQL: SELECT \"t1\".\"id\", \"t1\".\"text\", \"t1\".\"language_id\" FROM \"label\" AS \"t1\" WHERE ((\"t1\".\"language_id\" = ?) AND (\"t1\".\"text\" = ?)) LIMIT ? OFFSET ?\n",
      "Params: [30, 'yo-yo', 1, 0]\n",
      "Checking triple ['adults', 'development']...\n",
      "Checking depth 2 for triple ['adults', 'development']...\n",
      "Checking depth 2 for tuple ['adults', 'development']...\n",
      "Checking triple ['adults', 'yo-yo']...\n",
      "Checking depth 2 for triple ['adults', 'yo-yo']...\n",
      "!!!   No label for the node \"yo-yo\"... Are you sure the spelling is correct? <Model: Label> instance matching query does not exist:\n",
      "SQL: SELECT \"t1\".\"id\", \"t1\".\"text\", \"t1\".\"language_id\" FROM \"label\" AS \"t1\" WHERE ((\"t1\".\"language_id\" = ?) AND (\"t1\".\"text\" = ?)) LIMIT ? OFFSET ?\n",
      "Params: [30, 'yo-yo', 1, 0]\n",
      "Checking depth 2 for tuple ['adults', 'yo-yo']...\n",
      "Checking triple ['development', 'yo-yo']...\n",
      "Checking depth 2 for triple ['development', 'yo-yo']...\n",
      "!!!   No label for the node \"yo-yo\"... Are you sure the spelling is correct? <Model: Label> instance matching query does not exist:\n",
      "SQL: SELECT \"t1\".\"id\", \"t1\".\"text\", \"t1\".\"language_id\" FROM \"label\" AS \"t1\" WHERE ((\"t1\".\"language_id\" = ?) AND (\"t1\".\"text\" = ?)) LIMIT ? OFFSET ?\n",
      "Params: [30, 'yo-yo', 1, 0]\n",
      "Checking depth 2 for tuple ['development', 'yo-yo']...\n",
      "Checking triple ['adults', 'development', 'yo-yo']...\n",
      "Checking depth 2 for triple ['adults', 'development', 'yo-yo']...\n"
     ]
    },
    {
     "name": "stderr",
     "output_type": "stream",
     "text": [
      "\r",
      "29it [01:48,  2.17s/it]"
     ]
    },
    {
     "name": "stdout",
     "output_type": "stream",
     "text": [
      "!!!   No label for the node \"yo-yo\"... Are you sure the spelling is correct? <Model: Label> instance matching query does not exist:\n",
      "SQL: SELECT \"t1\".\"id\", \"t1\".\"text\", \"t1\".\"language_id\" FROM \"label\" AS \"t1\" WHERE ((\"t1\".\"language_id\" = ?) AND (\"t1\".\"text\" = ?)) LIMIT ? OFFSET ?\n",
      "Params: [30, 'yo-yo', 1, 0]\n",
      "Checking depth 2 for tuple ['adults', 'development']...\n",
      "Checking depth 2 for tuple ['adults', 'yo-yo']...\n",
      "Checking depth 2 for tuple ['development', 'yo-yo']...\n",
      "Checking depth 2 for tuple ['adults', 'development', 'yo-yo']...\n",
      "Checking triple ['cemetery', 'coma']...\n",
      "Checking depth 2 for triple ['cemetery', 'coma']...\n",
      "Checking depth 2 for tuple ['cemetery', 'coma']...\n",
      "Checking triple ['cemetery', 'noose']...\n",
      "Checking depth 2 for triple ['cemetery', 'noose']...\n",
      "Checking depth 2 for tuple ['cemetery', 'noose']...\n",
      "Checking triple ['coma', 'noose']...\n",
      "Checking depth 2 for triple ['coma', 'noose']...\n",
      "Checking depth 2 for tuple ['coma', 'noose']...\n",
      "Checking triple ['cemetery', 'coma', 'noose']...\n",
      "Checking depth 2 for triple ['cemetery', 'coma', 'noose']...\n",
      "Checking depth 2 for tuple ['cemetery', 'coma']...\n",
      "Checking depth 2 for tuple ['cemetery', 'noose']...\n",
      "Checking depth 2 for tuple ['coma', 'noose']...\n",
      "Checking depth 2 for tuple ['cemetery', 'coma', 'noose']...\n",
      "Checking triple ['exam', 'scare']...\n",
      "Checking depth 2 for triple ['exam', 'scare']...\n",
      "Checking depth 2 for tuple ['exam', 'scare']...\n",
      "Checking triple ['exam', 'terror']...\n",
      "Checking depth 2 for triple ['exam', 'terror']...\n",
      "Checking depth 2 for tuple ['exam', 'terror']...\n",
      "Checking triple ['scare', 'terror']...\n"
     ]
    },
    {
     "name": "stderr",
     "output_type": "stream",
     "text": [
      "\r",
      "31it [01:48,  1.63s/it]"
     ]
    },
    {
     "name": "stdout",
     "output_type": "stream",
     "text": [
      "Checking triple ['exam', 'scare', 'terror']...\n",
      "Checking depth 2 for triple ['exam', 'scare', 'terror']...\n",
      "Checking depth 2 for tuple ['exam', 'scare']...\n",
      "Checking depth 2 for tuple ['exam', 'terror']...\n",
      "Checking depth 2 for tuple ['scare', 'terror']...\n",
      "Checking depth 2 for tuple ['exam', 'scare', 'terror']...\n",
      "Checking triple ['hand', 'toe']...\n",
      "Checking triple ['hand', 'trigger']...\n"
     ]
    },
    {
     "name": "stderr",
     "output_type": "stream",
     "text": [
      "\r",
      "32it [01:58,  3.93s/it]"
     ]
    },
    {
     "name": "stdout",
     "output_type": "stream",
     "text": [
      "Checking triple ['toe', 'trigger']...\n",
      "Checking triple ['hand', 'toe', 'trigger']...\n",
      "Checking triple ['angel', 'church']...\n",
      "Checking depth 2 for triple ['angel', 'church']...\n",
      "!!!   No label for the node \"angel\"... Are you sure the spelling is correct? <Model: Label> instance matching query does not exist:\n",
      "SQL: SELECT \"t1\".\"id\", \"t1\".\"text\", \"t1\".\"language_id\" FROM \"label\" AS \"t1\" WHERE ((\"t1\".\"language_id\" = ?) AND (\"t1\".\"text\" = ?)) LIMIT ? OFFSET ?\n",
      "Params: [30, 'á', 1, 0]\n",
      "Checking depth 2 for tuple ['angel', 'church']...\n",
      "Checking triple ['angel', 'faith']...\n",
      "Checking depth 2 for triple ['angel', 'faith']...\n",
      "!!!   No label for the node \"angel\"... Are you sure the spelling is correct? <Model: Label> instance matching query does not exist:\n",
      "SQL: SELECT \"t1\".\"id\", \"t1\".\"text\", \"t1\".\"language_id\" FROM \"label\" AS \"t1\" WHERE ((\"t1\".\"language_id\" = ?) AND (\"t1\".\"text\" = ?)) LIMIT ? OFFSET ?\n",
      "Params: [30, 'á', 1, 0]\n",
      "Checking depth 2 for tuple ['angel', 'faith']...\n",
      "Checking triple ['church', 'faith']...\n",
      "Checking triple ['angel', 'church', 'faith']...\n",
      "Checking depth 2 for triple ['angel', 'church', 'faith']...\n"
     ]
    },
    {
     "name": "stderr",
     "output_type": "stream",
     "text": [
      "\r",
      "33it [02:25, 11.05s/it]"
     ]
    },
    {
     "name": "stdout",
     "output_type": "stream",
     "text": [
      "!!!   No label for the node \"angel\"... Are you sure the spelling is correct? <Model: Label> instance matching query does not exist:\n",
      "SQL: SELECT \"t1\".\"id\", \"t1\".\"text\", \"t1\".\"language_id\" FROM \"label\" AS \"t1\" WHERE ((\"t1\".\"language_id\" = ?) AND (\"t1\".\"text\" = ?)) LIMIT ? OFFSET ?\n",
      "Params: [30, 'á', 1, 0]\n",
      "Checking depth 2 for tuple ['angel', 'church']...\n",
      "Checking depth 2 for tuple ['angel', 'faith']...\n",
      "Checking depth 2 for tuple ['church', 'faith']...\n",
      "Checking depth 2 for tuple ['angel', 'church', 'faith']...\n",
      "!!!   No label for the node \"commamder\"... Are you sure the spelling is correct? <Model: Label> instance matching query does not exist:\n",
      "SQL: SELECT \"t1\".\"id\", \"t1\".\"text\", \"t1\".\"language_id\" FROM \"label\" AS \"t1\" WHERE ((\"t1\".\"language_id\" = ?) AND (\"t1\".\"text\" = ?)) LIMIT ? OFFSET ?\n",
      "Params: [30, 'commamder', 1, 0]\n",
      "Checking triple ['body', 'commamder']...\n",
      "Checking depth 2 for triple ['body', 'commamder']...\n",
      "!!!   No label for the node \"commamder\"... Are you sure the spelling is correct? <Model: Label> instance matching query does not exist:\n",
      "SQL: SELECT \"t1\".\"id\", \"t1\".\"text\", \"t1\".\"language_id\" FROM \"label\" AS \"t1\" WHERE ((\"t1\".\"language_id\" = ?) AND (\"t1\".\"text\" = ?)) LIMIT ? OFFSET ?\n",
      "Params: [30, 'commamder', 1, 0]\n",
      "Checking depth 2 for tuple ['body', 'commamder']...\n",
      "Checking triple ['body', 'scull']...\n",
      "Checking triple ['commamder', 'scull']...\n",
      "Checking depth 2 for triple ['commamder', 'scull']...\n",
      "!!!   No label for the node \"commamder\"... Are you sure the spelling is correct? <Model: Label> instance matching query does not exist:\n",
      "SQL: SELECT \"t1\".\"id\", \"t1\".\"text\", \"t1\".\"language_id\" FROM \"label\" AS \"t1\" WHERE ((\"t1\".\"language_id\" = ?) AND (\"t1\".\"text\" = ?)) LIMIT ? OFFSET ?\n",
      "Params: [30, 'commamder', 1, 0]\n",
      "Checking depth 2 for tuple ['commamder', 'scull']...\n",
      "Checking triple ['body', 'commamder', 'scull']...\n",
      "Checking depth 2 for triple ['body', 'commamder', 'scull']...\n"
     ]
    },
    {
     "name": "stderr",
     "output_type": "stream",
     "text": [
      "\r",
      "34it [02:28,  8.57s/it]"
     ]
    },
    {
     "name": "stdout",
     "output_type": "stream",
     "text": [
      "!!!   No label for the node \"commamder\"... Are you sure the spelling is correct? <Model: Label> instance matching query does not exist:\n",
      "SQL: SELECT \"t1\".\"id\", \"t1\".\"text\", \"t1\".\"language_id\" FROM \"label\" AS \"t1\" WHERE ((\"t1\".\"language_id\" = ?) AND (\"t1\".\"text\" = ?)) LIMIT ? OFFSET ?\n",
      "Params: [30, 'commamder', 1, 0]\n",
      "Checking depth 2 for tuple ['body', 'commamder']...\n",
      "Checking depth 2 for tuple ['body', 'scull']...\n",
      "Checking depth 2 for tuple ['commamder', 'scull']...\n",
      "Checking depth 2 for tuple ['body', 'commamder', 'scull']...\n",
      "Checking triple ['cello', 'scalpel']...\n",
      "Checking depth 2 for triple ['cello', 'scalpel']...\n",
      "Checking depth 2 for tuple ['cello', 'scalpel']...\n",
      "Checking triple ['cello', 'trumpet']...\n"
     ]
    },
    {
     "name": "stderr",
     "output_type": "stream",
     "text": [
      "41it [02:29,  4.29s/it]"
     ]
    },
    {
     "name": "stdout",
     "output_type": "stream",
     "text": [
      "Checking triple ['scalpel', 'trumpet']...\n",
      "Checking depth 2 for triple ['scalpel', 'trumpet']...\n",
      "Checking depth 2 for tuple ['scalpel', 'trumpet']...\n",
      "Checking triple ['cello', 'scalpel', 'trumpet']...\n",
      "Checking depth 2 for triple ['cello', 'scalpel', 'trumpet']...\n",
      "Checking depth 2 for tuple ['cello', 'scalpel']...\n",
      "Checking depth 2 for tuple ['cello', 'trumpet']...\n",
      "Checking depth 2 for tuple ['scalpel', 'trumpet']...\n",
      "Checking depth 2 for tuple ['cello', 'scalpel', 'trumpet']...\n",
      "Checking triple ['desk', 'quill']...\n",
      "Checking depth 2 for triple ['desk', 'quill']...\n",
      "Checking depth 2 for tuple ['desk', 'quill']...\n",
      "Checking triple ['desk', 'stapler']...\n",
      "Checking depth 2 for triple ['desk', 'stapler']...\n",
      "Checking depth 2 for tuple ['desk', 'stapler']...\n",
      "Checking triple ['quill', 'stapler']...\n",
      "Checking depth 2 for triple ['quill', 'stapler']...\n",
      "Checking depth 2 for tuple ['quill', 'stapler']...\n",
      "Checking triple ['desk', 'quill', 'stapler']...\n",
      "Checking depth 2 for triple ['desk', 'quill', 'stapler']...\n",
      "Checking depth 2 for tuple ['desk', 'quill']...\n",
      "Checking depth 2 for tuple ['desk', 'stapler']...\n",
      "Checking depth 2 for tuple ['quill', 'stapler']...\n",
      "Checking depth 2 for tuple ['desk', 'quill', 'stapler']...\n",
      "Checking triple ['arrest', 'badge']...\n",
      "Checking depth 2 for triple ['arrest', 'badge']...\n",
      "Checking depth 2 for tuple ['arrest', 'badge']...\n",
      "Checking triple ['arrest', 'deputy']...\n",
      "Checking depth 2 for triple ['arrest', 'deputy']...\n",
      "Checking depth 2 for tuple ['arrest', 'deputy']...\n",
      "Checking triple ['badge', 'deputy']...\n",
      "Checking depth 2 for triple ['badge', 'deputy']...\n",
      "Checking depth 2 for tuple ['badge', 'deputy']...\n",
      "Checking triple ['arrest', 'badge', 'deputy']...\n",
      "Checking depth 2 for triple ['arrest', 'badge', 'deputy']...\n",
      "Checking depth 2 for tuple ['arrest', 'badge']...\n",
      "Checking depth 2 for tuple ['arrest', 'deputy']...\n",
      "Checking depth 2 for tuple ['badge', 'deputy']...\n",
      "Checking depth 2 for tuple ['arrest', 'badge', 'deputy']...\n",
      "Checking triple ['electron', 'inertia']...\n",
      "Checking depth 2 for triple ['electron', 'inertia']...\n",
      "Checking depth 2 for tuple ['electron', 'inertia']...\n",
      "Checking triple ['electron', 'zest']...\n",
      "Checking depth 2 for triple ['electron', 'zest']...\n",
      "Checking depth 2 for tuple ['electron', 'zest']...\n",
      "Checking triple ['inertia', 'zest']...\n",
      "Checking depth 2 for triple ['inertia', 'zest']...\n",
      "Checking depth 2 for tuple ['inertia', 'zest']...\n",
      "Checking triple ['electron', 'inertia', 'zest']...\n",
      "Checking depth 2 for triple ['electron', 'inertia', 'zest']...\n",
      "Checking depth 2 for tuple ['electron', 'inertia']...\n",
      "Checking depth 2 for tuple ['electron', 'zest']...\n",
      "Checking depth 2 for tuple ['inertia', 'zest']...\n",
      "Checking depth 2 for tuple ['electron', 'inertia', 'zest']...\n",
      "Checking triple ['diet', 'strain']...\n",
      "Checking depth 2 for triple ['diet', 'strain']...\n",
      "Checking depth 2 for tuple ['diet', 'strain']...\n",
      "Checking triple ['diet', 'sweat']...\n",
      "Checking depth 2 for triple ['diet', 'sweat']...\n",
      "Checking depth 2 for tuple ['diet', 'sweat']...\n",
      "Checking triple ['strain', 'sweat']...\n",
      "Checking depth 2 for triple ['strain', 'sweat']...\n",
      "Checking depth 2 for tuple ['strain', 'sweat']...\n",
      "Checking triple ['diet', 'strain', 'sweat']...\n",
      "Checking depth 2 for triple ['diet', 'strain', 'sweat']...\n",
      "Checking depth 2 for tuple ['diet', 'strain']...\n",
      "Checking depth 2 for tuple ['diet', 'sweat']...\n",
      "Checking depth 2 for tuple ['strain', 'sweat']...\n",
      "Checking depth 2 for tuple ['diet', 'strain', 'sweat']...\n",
      "Checking triple ['assault', 'cop']...\n",
      "Checking depth 2 for triple ['assault', 'cop']...\n",
      "Checking depth 2 for tuple ['assault', 'cop']...\n",
      "Checking triple ['assault', 'murder']...\n",
      "Checking depth 2 for triple ['assault', 'murder']...\n",
      "Checking depth 2 for tuple ['assault', 'murder']...\n",
      "Checking triple ['cop', 'murder']...\n",
      "Checking depth 2 for triple ['cop', 'murder']...\n",
      "Checking depth 2 for tuple ['cop', 'murder']...\n",
      "Checking triple ['assault', 'cop', 'murder']...\n",
      "Checking depth 2 for triple ['assault', 'cop', 'murder']...\n",
      "Checking depth 2 for tuple ['assault', 'cop']...\n",
      "Checking depth 2 for tuple ['assault', 'murder']...\n",
      "Checking depth 2 for tuple ['cop', 'murder']...\n",
      "Checking depth 2 for tuple ['assault', 'cop', 'murder']...\n",
      "Checking triple ['drill', 'grave']...\n",
      "Checking triple ['drill', 'spike']...\n",
      "Checking depth 2 for triple ['drill', 'spike']...\n",
      "Checking depth 2 for tuple ['drill', 'spike']...\n",
      "Checking triple ['grave', 'spike']...\n",
      "Checking depth 2 for triple ['grave', 'spike']...\n",
      "Checking depth 2 for tuple ['grave', 'spike']...\n",
      "Checking triple ['drill', 'grave', 'spike']...\n",
      "Checking depth 2 for triple ['drill', 'grave', 'spike']...\n",
      "Checking depth 2 for tuple ['drill', 'grave']...\n",
      "Checking depth 2 for tuple ['drill', 'spike']...\n",
      "Checking depth 2 for tuple ['grave', 'spike']...\n",
      "Checking depth 2 for tuple ['drill', 'grave', 'spike']...\n",
      "Checking triple ['care', 'tactful']...\n",
      "Checking depth 2 for triple ['care', 'tactful']...\n",
      "Checking depth 2 for tuple ['care', 'tactful']...\n",
      "Checking triple ['care', 'willing']...\n",
      "Checking depth 2 for triple ['care', 'willing']...\n",
      "Checking depth 2 for tuple ['care', 'willing']...\n",
      "Checking triple ['tactful', 'willing']...\n",
      "Checking depth 2 for triple ['tactful', 'willing']...\n",
      "Checking depth 2 for tuple ['tactful', 'willing']...\n",
      "Checking triple ['care', 'tactful', 'willing']...\n",
      "Checking depth 2 for triple ['care', 'tactful', 'willing']...\n",
      "Checking depth 2 for tuple ['care', 'tactful']...\n",
      "Checking depth 2 for tuple ['care', 'willing']...\n",
      "Checking depth 2 for tuple ['tactful', 'willing']...\n",
      "Checking depth 2 for tuple ['care', 'tactful', 'willing']...\n",
      "Checking triple ['midnight', 'saturn']...\n",
      "Checking depth 2 for triple ['midnight', 'saturn']...\n",
      "Checking depth 2 for tuple ['midnight', 'saturn']...\n",
      "Checking triple ['midnight', 'wolf']...\n",
      "Checking depth 2 for triple ['midnight', 'wolf']...\n",
      "Checking depth 2 for tuple ['midnight', 'wolf']...\n",
      "Checking triple ['saturn', 'wolf']...\n",
      "Checking depth 2 for triple ['saturn', 'wolf']...\n",
      "Checking depth 2 for tuple ['saturn', 'wolf']...\n",
      "Checking triple ['midnight', 'saturn', 'wolf']...\n",
      "Checking depth 2 for triple ['midnight', 'saturn', 'wolf']...\n",
      "Checking depth 2 for tuple ['midnight', 'saturn']...\n",
      "Checking depth 2 for tuple ['midnight', 'wolf']...\n",
      "Checking depth 2 for tuple ['saturn', 'wolf']...\n",
      "Checking depth 2 for tuple ['midnight', 'saturn', 'wolf']...\n",
      "Checking triple ['bloom', 'opportunity']...\n",
      "Checking depth 2 for triple ['bloom', 'opportunity']...\n",
      "Checking depth 2 for tuple ['bloom', 'opportunity']...\n",
      "Checking triple ['bloom', 'split']...\n",
      "Checking depth 2 for triple ['bloom', 'split']...\n",
      "Checking depth 2 for tuple ['bloom', 'split']...\n",
      "Checking triple ['opportunity', 'split']...\n",
      "Checking depth 2 for triple ['opportunity', 'split']...\n",
      "Checking depth 2 for tuple ['opportunity', 'split']...\n"
     ]
    },
    {
     "name": "stderr",
     "output_type": "stream",
     "text": [
      "48it [03:09,  3.95s/it]"
     ]
    },
    {
     "name": "stdout",
     "output_type": "stream",
     "text": [
      "Checking triple ['bloom', 'opportunity', 'split']...\n",
      "Checking depth 2 for triple ['bloom', 'opportunity', 'split']...\n",
      "Checking depth 2 for tuple ['bloom', 'opportunity']...\n",
      "Checking depth 2 for tuple ['bloom', 'split']...\n",
      "Checking depth 2 for tuple ['opportunity', 'split']...\n",
      "Checking depth 2 for tuple ['bloom', 'opportunity', 'split']...\n",
      "Checking triple ['accomplished', 'dolphin']...\n",
      "Checking depth 2 for triple ['accomplished', 'dolphin']...\n",
      "Checking depth 2 for tuple ['accomplished', 'dolphin']...\n",
      "Checking triple ['accomplished', 'sly']...\n",
      "Checking depth 2 for triple ['accomplished', 'sly']...\n",
      "Checking depth 2 for tuple ['accomplished', 'sly']...\n",
      "Checking triple ['dolphin', 'sly']...\n",
      "Checking depth 2 for triple ['dolphin', 'sly']...\n",
      "Checking depth 2 for tuple ['dolphin', 'sly']...\n",
      "Checking triple ['accomplished', 'dolphin', 'sly']...\n",
      "Checking depth 2 for triple ['accomplished', 'dolphin', 'sly']...\n",
      "Checking depth 2 for tuple ['accomplished', 'dolphin']...\n",
      "Checking depth 2 for tuple ['accomplished', 'sly']...\n",
      "Checking depth 2 for tuple ['dolphin', 'sly']...\n",
      "Checking depth 2 for tuple ['accomplished', 'dolphin', 'sly']...\n",
      "Checking triple ['duck', 'sardine']...\n",
      "Checking depth 2 for triple ['duck', 'sardine']...\n",
      "Checking depth 2 for tuple ['duck', 'sardine']...\n",
      "Checking triple ['duck', 'sinker']...\n",
      "Checking depth 2 for triple ['duck', 'sinker']...\n",
      "Checking depth 2 for tuple ['duck', 'sinker']...\n",
      "Checking triple ['sardine', 'sinker']...\n",
      "Checking depth 2 for triple ['sardine', 'sinker']...\n",
      "Checking depth 2 for tuple ['sardine', 'sinker']...\n",
      "Checking triple ['duck', 'sardine', 'sinker']...\n",
      "Checking depth 2 for triple ['duck', 'sardine', 'sinker']...\n",
      "Checking depth 2 for tuple ['duck', 'sardine']...\n",
      "Checking depth 2 for tuple ['duck', 'sinker']...\n",
      "Checking depth 2 for tuple ['sardine', 'sinker']...\n",
      "Checking depth 2 for tuple ['duck', 'sardine', 'sinker']...\n",
      "Checking triple ['europe', 'mushroom']...\n",
      "Checking depth 2 for triple ['europe', 'mushroom']...\n",
      "Checking depth 2 for tuple ['europe', 'mushroom']...\n",
      "Checking triple ['europe', 'pack']...\n",
      "Checking depth 2 for triple ['europe', 'pack']...\n",
      "Checking depth 2 for tuple ['europe', 'pack']...\n",
      "Checking triple ['mushroom', 'pack']...\n",
      "Checking depth 2 for triple ['mushroom', 'pack']...\n",
      "Checking depth 2 for tuple ['mushroom', 'pack']...\n",
      "Checking triple ['europe', 'mushroom', 'pack']...\n",
      "Checking depth 2 for triple ['europe', 'mushroom', 'pack']...\n",
      "Checking depth 2 for tuple ['europe', 'mushroom']...\n",
      "Checking depth 2 for tuple ['europe', 'pack']...\n",
      "Checking depth 2 for tuple ['mushroom', 'pack']...\n",
      "Checking depth 2 for tuple ['europe', 'mushroom', 'pack']...\n",
      "Checking triple ['fierce', 'steel']...\n",
      "Checking depth 2 for triple ['fierce', 'steel']...\n",
      "Checking depth 2 for tuple ['fierce', 'steel']...\n",
      "Checking triple ['fierce', 'warrior']...\n",
      "Checking depth 2 for triple ['fierce', 'warrior']...\n",
      "Checking depth 2 for tuple ['fierce', 'warrior']...\n",
      "Checking triple ['steel', 'warrior']...\n",
      "Checking depth 2 for triple ['steel', 'warrior']...\n",
      "Checking depth 2 for tuple ['steel', 'warrior']...\n",
      "Checking triple ['fierce', 'steel', 'warrior']...\n",
      "Checking depth 2 for triple ['fierce', 'steel', 'warrior']...\n",
      "Checking depth 2 for tuple ['fierce', 'steel']...\n",
      "Checking depth 2 for tuple ['fierce', 'warrior']...\n",
      "Checking depth 2 for tuple ['steel', 'warrior']...\n",
      "Checking depth 2 for tuple ['fierce', 'steel', 'warrior']...\n",
      "Saved results in frat_2,3_conceptnet_search.xlsx\n"
     ]
    },
    {
     "name": "stderr",
     "output_type": "stream",
     "text": [
      "\n"
     ]
    }
   ],
   "source": [
    "get_conceptnet()\n",
    "output = []\n",
    "accuracy = {\n",
    "    'total': 0,\n",
    "    'tp': 0\n",
    "}\n",
    "if rat_frat == 'rat': # rat|frat CSVs have different structure\n",
    "    df = pd.read_csv(src)\n",
    "else:\n",
    "    df = pd.read_csv(src, sep=';')\n",
    "queries = df.w1 + ' ' + df.w2 + ' ' + df.w3\n",
    "queries = [list(map(lambda x: x.lower(), filter(len, line.split(' ')))) for line in queries]\n",
    "\n",
    "# queries triples as list of list\n",
    "# [['question', 'reply', 'solution'], ... ['fault', 'incorrect', 'unjust']]\n",
    "for item in tqdm(zip(range(0, len(queries)),\n",
    "                queries,\n",
    "                repeat(df),\n",
    "                repeat((rat_frat, check)),\n",
    "                repeat(output),\n",
    "                repeat(accuracy))):\n",
    "    output, accuracy = compute(item)\n",
    "\n",
    "output.append({'Accuracy': str(round(100*accuracy['tp']/accuracy['total'], 2)) + '%'})\n",
    "save_csv(rat_frat, check, output)"
   ]
  },
  {
   "cell_type": "code",
   "execution_count": null,
   "metadata": {},
   "outputs": [],
   "source": []
  },
  {
   "cell_type": "code",
   "execution_count": null,
   "metadata": {},
   "outputs": [],
   "source": []
  },
  {
   "cell_type": "code",
   "execution_count": 9,
   "metadata": {},
   "outputs": [
    {
     "name": "stdout",
     "output_type": "stream",
     "text": [
      "Cached 139 nodes in the first level, 102 in the second and 42448 relationships\n"
     ]
    }
   ],
   "source": [
    "print('Cached {} nodes in the first level, {} in the second and {} relationships'.format(\n",
    "        len(node_cache_1), len(node_cache_2), len(rel_cache)))"
   ]
  },
  {
   "cell_type": "code",
   "execution_count": null,
   "metadata": {},
   "outputs": [],
   "source": []
  }
 ],
 "metadata": {
  "kernelspec": {
   "display_name": "Python 3",
   "language": "python",
   "name": "python3"
  },
  "language_info": {
   "codemirror_mode": {
    "name": "ipython",
    "version": 3
   },
   "file_extension": ".py",
   "mimetype": "text/x-python",
   "name": "python",
   "nbconvert_exporter": "python",
   "pygments_lexer": "ipython3",
   "version": "3.8.5"
  }
 },
 "nbformat": 4,
 "nbformat_minor": 4
}
